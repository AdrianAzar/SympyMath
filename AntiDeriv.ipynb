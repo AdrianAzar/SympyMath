{
 "cells": [
  {
   "cell_type": "code",
   "execution_count": 33,
   "id": "75a8dd7a-dc8f-45e6-96f7-04e72e5083b3",
   "metadata": {},
   "outputs": [],
   "source": [
    "import sympy as smp\n",
    "from sympy import *\n",
    "import numpy as np\n",
    "#Antiderivatives\n",
    "x,y,t=smp.symbols('x y t')"
   ]
  },
  {
   "cell_type": "code",
   "execution_count": 34,
   "id": "91c488e9-86e5-4e0c-ad20-bb4de3452f68",
   "metadata": {},
   "outputs": [
    {
     "data": {
      "text/latex": [
       "$\\displaystyle \\cot{\\left(x \\right)} \\sec{\\left(x \\right)}$"
      ],
      "text/plain": [
       "cot(x)*sec(x)"
      ]
     },
     "execution_count": 34,
     "metadata": {},
     "output_type": "execute_result"
    }
   ],
   "source": [
    "smp.sec(x)*smp.cot(x)"
   ]
  },
  {
   "cell_type": "code",
   "execution_count": 35,
   "id": "e88efe49-6a8e-478f-b9bc-2137754bc881",
   "metadata": {},
   "outputs": [
    {
     "data": {
      "text/latex": [
       "$\\displaystyle \\frac{\\log{\\left(\\cos{\\left(x \\right)} - 1 \\right)}}{2} - \\frac{\\log{\\left(\\cos{\\left(x \\right)} + 1 \\right)}}{2}$"
      ],
      "text/plain": [
       "log(cos(x) - 1)/2 - log(cos(x) + 1)/2"
      ]
     },
     "execution_count": 35,
     "metadata": {},
     "output_type": "execute_result"
    }
   ],
   "source": [
    "smp.integrate(smp.sec(x)*smp.cot(x),x) "
   ]
  },
  {
   "cell_type": "code",
   "execution_count": 36,
   "id": "6bef0cf8-888f-4677-a959-b8793ec3f693",
   "metadata": {},
   "outputs": [
    {
     "data": {
      "text/latex": [
       "$\\displaystyle \\frac{2}{\\sqrt{1 - x^{2}}} - \\frac{1}{\\sqrt[4]{x}}$"
      ],
      "text/plain": [
       "2/sqrt(1 - x**2) - 1/x**(1/4)"
      ]
     },
     "execution_count": 36,
     "metadata": {},
     "output_type": "execute_result"
    }
   ],
   "source": [
    "(2/smp.sqrt(1-x**2))-1/x**smp.Rational(1,4)"
   ]
  },
  {
   "cell_type": "code",
   "execution_count": 37,
   "id": "becdb8f4-7c3c-49f5-b812-3dd7b98ccbd1",
   "metadata": {},
   "outputs": [
    {
     "data": {
      "text/latex": [
       "$\\displaystyle - \\frac{4 x^{\\frac{3}{4}}}{3} + 2 \\operatorname{asin}{\\left(x \\right)}$"
      ],
      "text/plain": [
       "-4*x**(3/4)/3 + 2*asin(x)"
      ]
     },
     "execution_count": 37,
     "metadata": {},
     "output_type": "execute_result"
    }
   ],
   "source": [
    "smp.integrate((2/smp.sqrt(1-x**2))-1/x**smp.Rational(1,4),x)"
   ]
  },
  {
   "cell_type": "code",
   "execution_count": 38,
   "id": "fa60f24b-53ee-4f57-bb28-7d734743fe51",
   "metadata": {},
   "outputs": [
    {
     "data": {
      "text/latex": [
       "$\\displaystyle \\frac{\\sqrt[3]{\\sqrt{x} + 1}}{\\sqrt{x}}$"
      ],
      "text/plain": [
       "(sqrt(x) + 1)**(1/3)/sqrt(x)"
      ]
     },
     "execution_count": 38,
     "metadata": {},
     "output_type": "execute_result"
    }
   ],
   "source": [
    "((1+smp.sqrt(x))**smp.Rational(1,3))/smp.sqrt(x)"
   ]
  },
  {
   "cell_type": "code",
   "execution_count": 39,
   "id": "08ebf9d3-8951-4eb5-b398-b3371fb219e8",
   "metadata": {},
   "outputs": [
    {
     "data": {
      "text/latex": [
       "$\\displaystyle \\frac{3 \\sqrt{x} \\sqrt[3]{\\sqrt{x} + 1}}{2} + \\frac{3 \\sqrt[3]{\\sqrt{x} + 1}}{2}$"
      ],
      "text/plain": [
       "3*sqrt(x)*(sqrt(x) + 1)**(1/3)/2 + 3*(sqrt(x) + 1)**(1/3)/2"
      ]
     },
     "execution_count": 39,
     "metadata": {},
     "output_type": "execute_result"
    }
   ],
   "source": [
    "smp.integrate(((1+smp.sqrt(x))**smp.Rational(1,3))/sqrt(x),x)"
   ]
  },
  {
   "cell_type": "code",
   "execution_count": 40,
   "id": "cfb530d0-10f8-44ef-af4e-40b0dc3b81b8",
   "metadata": {},
   "outputs": [
    {
     "data": {
      "text/latex": [
       "$\\displaystyle x \\sqrt[3]{1 - x^{2}}$"
      ],
      "text/plain": [
       "x*(1 - x**2)**(1/3)"
      ]
     },
     "execution_count": 40,
     "metadata": {},
     "output_type": "execute_result"
    }
   ],
   "source": [
    "x*(1-x**2)**smp.Rational(1,3)"
   ]
  },
  {
   "cell_type": "code",
   "execution_count": 41,
   "id": "9d70a9de-e8e5-4f02-b8b7-7c9ab79f4baf",
   "metadata": {},
   "outputs": [
    {
     "data": {
      "text/latex": [
       "$\\displaystyle \\frac{3 x^{2} \\sqrt[3]{1 - x^{2}}}{8} - \\frac{3 \\sqrt[3]{1 - x^{2}}}{8}$"
      ],
      "text/plain": [
       "3*x**2*(1 - x**2)**(1/3)/8 - 3*(1 - x**2)**(1/3)/8"
      ]
     },
     "execution_count": 41,
     "metadata": {},
     "output_type": "execute_result"
    }
   ],
   "source": [
    "smp.integrate(x*(1-x**2)**smp.Rational(1,3),x)"
   ]
  },
  {
   "cell_type": "code",
   "execution_count": 42,
   "id": "16f61275-91ad-481a-99a9-1735c0eae97f",
   "metadata": {},
   "outputs": [
    {
     "data": {
      "text/latex": [
       "$\\displaystyle \\frac{\\left(2 x - 1\\right) \\cos{\\left(\\sqrt{3 \\left(2 x - 1\\right)^{2} + 6} \\right)}}{\\sqrt{3 \\left(2 x - 1\\right)^{2} + 6}}$"
      ],
      "text/plain": [
       "(2*x - 1)*cos(sqrt(3*(2*x - 1)**2 + 6))/sqrt(3*(2*x - 1)**2 + 6)"
      ]
     },
     "execution_count": 42,
     "metadata": {},
     "output_type": "execute_result"
    }
   ],
   "source": [
    "((2*x-1)*smp.cos(smp.sqrt(3*(2*x-1)**2+6))/(smp.sqrt(3*(2*x-1)**2+6)))"
   ]
  },
  {
   "cell_type": "code",
   "execution_count": 43,
   "id": "e0f6c261-90ed-4b95-b2f2-ddbcc1fdd576",
   "metadata": {},
   "outputs": [
    {
     "data": {
      "text/latex": [
       "$\\displaystyle \\frac{\\sin{\\left(\\sqrt{3 \\left(2 x - 1\\right)^{2} + 6} \\right)}}{6}$"
      ],
      "text/plain": [
       "sin(sqrt(3*(2*x - 1)**2 + 6))/6"
      ]
     },
     "execution_count": 43,
     "metadata": {},
     "output_type": "execute_result"
    }
   ],
   "source": [
    "smp.integrate(((2*x-1)*smp.cos(smp.sqrt(3*(2*x-1)**2+6))/(smp.sqrt(3*(2*x-1)**2+6))),x)"
   ]
  },
  {
   "cell_type": "code",
   "execution_count": null,
   "id": "c356bb14-33b2-43e8-833b-ecb240a407b1",
   "metadata": {},
   "outputs": [],
   "source": []
  }
 ],
 "metadata": {
  "kernelspec": {
   "display_name": "Python 3 (ipykernel)",
   "language": "python",
   "name": "python3"
  },
  "language_info": {
   "codemirror_mode": {
    "name": "ipython",
    "version": 3
   },
   "file_extension": ".py",
   "mimetype": "text/x-python",
   "name": "python",
   "nbconvert_exporter": "python",
   "pygments_lexer": "ipython3",
   "version": "3.13.3"
  }
 },
 "nbformat": 4,
 "nbformat_minor": 5
}
