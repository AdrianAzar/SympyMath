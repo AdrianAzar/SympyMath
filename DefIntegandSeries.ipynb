{
 "cells": [
  {
   "cell_type": "code",
   "execution_count": 1,
   "id": "589a1974-a5a2-424f-b569-78ab01931e6e",
   "metadata": {},
   "outputs": [],
   "source": [
    "import sympy as smp\n",
    "from sympy import *\n",
    "import numpy as np\n",
    "#Definite Integrals and Series\n",
    "x,y,t,n=smp.symbols('x y t n')"
   ]
  },
  {
   "cell_type": "code",
   "execution_count": 3,
   "id": "18c5a1e0-0656-45eb-b35a-fff831cbcc2e",
   "metadata": {},
   "outputs": [
    {
     "data": {
      "text/latex": [
       "$\\displaystyle x^{10} e^{- x}$"
      ],
      "text/plain": [
       "x**10*exp(-x)"
      ]
     },
     "execution_count": 3,
     "metadata": {},
     "output_type": "execute_result"
    }
   ],
   "source": [
    "x**10*smp.exp(-x)"
   ]
  },
  {
   "cell_type": "code",
   "execution_count": 11,
   "id": "784a835b-4bc1-4d96-b92a-9ea1a1ad338b",
   "metadata": {},
   "outputs": [
    {
     "data": {
      "text/latex": [
       "$\\displaystyle \\left(- t^{10} - 10 t^{9} - 90 t^{8} - 720 t^{7} - 5040 t^{6} - 30240 t^{5} - 151200 t^{4} - 604800 t^{3} - 1814400 t^{2} - 3628800 t - 3628800\\right) e^{- t} + \\frac{9864101}{e}$"
      ],
      "text/plain": [
       "(-t**10 - 10*t**9 - 90*t**8 - 720*t**7 - 5040*t**6 - 30240*t**5 - 151200*t**4 - 604800*t**3 - 1814400*t**2 - 3628800*t - 3628800)*exp(-t) + 9864101*exp(-1)"
      ]
     },
     "execution_count": 11,
     "metadata": {},
     "output_type": "execute_result"
    }
   ],
   "source": [
    "smp.integrate(x**(10)*smp.exp(-x),(x,1,t))#1 to t"
   ]
  },
  {
   "cell_type": "code",
   "execution_count": 5,
   "id": "07ac6570-dd64-44fb-ba79-da700d7a91ba",
   "metadata": {},
   "outputs": [
    {
     "data": {
      "text/latex": [
       "$\\displaystyle 3628800$"
      ],
      "text/plain": [
       "3628800"
      ]
     },
     "execution_count": 5,
     "metadata": {},
     "output_type": "execute_result"
    }
   ],
   "source": [
    "#Improper(same as fct as before)\n",
    "smp.integrate(x**(10)*smp.exp(-x),(x,0,smp.oo))\n"
   ]
  },
  {
   "cell_type": "code",
   "execution_count": 9,
   "id": "e5a537dd-009a-4ec1-9371-bc4834af27d7",
   "metadata": {},
   "outputs": [
    {
     "data": {
      "text/latex": [
       "$\\displaystyle 8$"
      ],
      "text/plain": [
       "8"
      ]
     },
     "execution_count": 9,
     "metadata": {},
     "output_type": "execute_result"
    }
   ],
   "source": [
    "#Series \n",
    "#6/4**n\n",
    "smp.Sum(6/4**n,(n,0,smp.oo)).doit()"
   ]
  },
  {
   "cell_type": "code",
   "execution_count": 17,
   "id": "faf5a8de-1905-49f4-af51-7adf7a8732ee",
   "metadata": {},
   "outputs": [
    {
     "data": {
      "text/latex": [
       "$\\displaystyle \\sum_{n=0}^{\\infty} \\frac{\\operatorname{atan}{\\left(n \\right)}}{n^{1.1}}$"
      ],
      "text/plain": [
       "Sum(atan(n)/n**1.1, (n, 0, oo))"
      ]
     },
     "execution_count": 17,
     "metadata": {},
     "output_type": "execute_result"
    }
   ],
   "source": [
    "smp.Sum(smp.atan(n)/(n**(1.1)),(n,0,smp.oo))"
   ]
  },
  {
   "cell_type": "code",
   "execution_count": 23,
   "id": "e43b829a-f572-4fa3-895b-44c20f981acf",
   "metadata": {},
   "outputs": [
    {
     "data": {
      "text/latex": [
       "$\\displaystyle \\sum_{n=1}^{\\infty} \\frac{\\operatorname{atan}{\\left(n \\right)}}{n^{1.1}}$"
      ],
      "text/plain": [
       "Sum(atan(n)/n**1.1, (n, 1, oo))"
      ]
     },
     "execution_count": 23,
     "metadata": {},
     "output_type": "execute_result"
    }
   ],
   "source": [
    "smp.Sum(smp.atan(n)/(n**(1.1)),(n,1,smp.oo)).doit() #DOES NOT DO IT SINCE IT IS COMPLICATED"
   ]
  },
  {
   "cell_type": "code",
   "execution_count": 22,
   "id": "654bd962-8ce5-4b98-8e7e-5553feabc6de",
   "metadata": {},
   "outputs": [
    {
     "data": {
      "text/latex": [
       "$\\displaystyle 15.3028821020457$"
      ],
      "text/plain": [
       "15.3028821020457"
      ]
     },
     "execution_count": 22,
     "metadata": {},
     "output_type": "execute_result"
    }
   ],
   "source": [
    "#to solve sum\n",
    "smp.Sum(smp.atan(n)/(n**1.1),(n,1,smp.oo)).n()"
   ]
  },
  {
   "cell_type": "code",
   "execution_count": 26,
   "id": "fc66915d-2b70-4dae-bf3d-6694d71889e3",
   "metadata": {},
   "outputs": [
    {
     "data": {
      "text/latex": [
       "$\\displaystyle \\sum_{n=1}^{\\infty} \\frac{\\cos{\\left(n \\right)} + 1}{n}$"
      ],
      "text/plain": [
       "Sum((cos(n) + 1)/n, (n, 1, oo))"
      ]
     },
     "execution_count": 26,
     "metadata": {},
     "output_type": "execute_result"
    }
   ],
   "source": [
    "smp.Sum((1+smp.cos(n))/n,(n,1,smp.oo))"
   ]
  },
  {
   "cell_type": "code",
   "execution_count": 27,
   "id": "58f0cbcf-0d14-4692-a63f-93fb53f48db7",
   "metadata": {},
   "outputs": [
    {
     "data": {
      "text/latex": [
       "$\\displaystyle 3.0 \\cdot 10^{2}$"
      ],
      "text/plain": [
       "0.e+2"
      ]
     },
     "execution_count": 27,
     "metadata": {},
     "output_type": "execute_result"
    }
   ],
   "source": [
    "smp.Sum((1+smp.cos(n))/n,(n,1,smp.oo)).n() #DIVERGES"
   ]
  },
  {
   "cell_type": "code",
   "execution_count": null,
   "id": "744c8dd5-3482-46c1-8995-414f15da3a1e",
   "metadata": {},
   "outputs": [],
   "source": [
    "#Its not 300 but DIVERGENT"
   ]
  }
 ],
 "metadata": {
  "kernelspec": {
   "display_name": "Python 3 (ipykernel)",
   "language": "python",
   "name": "python3"
  },
  "language_info": {
   "codemirror_mode": {
    "name": "ipython",
    "version": 3
   },
   "file_extension": ".py",
   "mimetype": "text/x-python",
   "name": "python",
   "nbconvert_exporter": "python",
   "pygments_lexer": "ipython3",
   "version": "3.13.3"
  }
 },
 "nbformat": 4,
 "nbformat_minor": 5
}
