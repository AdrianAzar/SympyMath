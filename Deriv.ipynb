{
 "cells": [
  {
   "cell_type": "code",
   "execution_count": 3,
   "id": "717dc633-c5e2-4f7e-82e2-a155246b484b",
   "metadata": {},
   "outputs": [],
   "source": [
    "import sympy as smp\n",
    "from sympy import *\n",
    "import numpy as np\n",
    "#Derivatives\n"
   ]
  },
  {
   "cell_type": "code",
   "execution_count": 4,
   "id": "1cea77a5-0555-449b-b1a2-fb118cdac011",
   "metadata": {},
   "outputs": [],
   "source": [
    "x,y,z=smp.symbols('x y z')"
   ]
  },
  {
   "cell_type": "code",
   "execution_count": 5,
   "id": "5e3a5a31-1852-467b-bef1-1cb743b4c1f2",
   "metadata": {},
   "outputs": [
    {
     "data": {
      "text/latex": [
       "$\\displaystyle \\frac{\\left(\\sin{\\left(x \\right)} + 1\\right)^{2}}{\\left(1 - \\cos{\\left(x \\right)}\\right)^{2}}$"
      ],
      "text/plain": [
       "(sin(x) + 1)**2/(1 - cos(x))**2"
      ]
     },
     "execution_count": 5,
     "metadata": {},
     "output_type": "execute_result"
    }
   ],
   "source": [
    "\n",
    "((1+smp.sin(x))/(1-smp.cos(x)))**2"
   ]
  },
  {
   "cell_type": "code",
   "execution_count": 7,
   "id": "bdc31a46-1d6d-43ee-9e5a-d15dbba6682c",
   "metadata": {},
   "outputs": [
    {
     "data": {
      "text/latex": [
       "$\\displaystyle \\frac{2 \\left(\\sin{\\left(x \\right)} + 1\\right) \\cos{\\left(x \\right)}}{\\left(1 - \\cos{\\left(x \\right)}\\right)^{2}} - \\frac{2 \\left(\\sin{\\left(x \\right)} + 1\\right)^{2} \\sin{\\left(x \\right)}}{\\left(1 - \\cos{\\left(x \\right)}\\right)^{3}}$"
      ],
      "text/plain": [
       "2*(sin(x) + 1)*cos(x)/(1 - cos(x))**2 - 2*(sin(x) + 1)**2*sin(x)/(1 - cos(x))**3"
      ]
     },
     "execution_count": 7,
     "metadata": {},
     "output_type": "execute_result"
    }
   ],
   "source": [
    "smp.diff(((1+smp.sin(x))/(1-smp.cos(x)))**2,x)"
   ]
  },
  {
   "cell_type": "code",
   "execution_count": 8,
   "id": "2e30cd05-777b-4876-b9e4-81757c99f0fe",
   "metadata": {},
   "outputs": [
    {
     "data": {
      "text/latex": [
       "$\\displaystyle \\left(\\frac{\\log{\\left(x \\right)}}{\\log{\\left(5 \\right)}}\\right)^{\\frac{x}{2}}$"
      ],
      "text/plain": [
       "(log(x)/log(5))**(x/2)"
      ]
     },
     "execution_count": 8,
     "metadata": {},
     "output_type": "execute_result"
    }
   ],
   "source": [
    "log(x,5)**(x/2)"
   ]
  },
  {
   "cell_type": "code",
   "execution_count": 9,
   "id": "62a7e3ce-6210-40ff-94a7-0bf99394d491",
   "metadata": {},
   "outputs": [
    {
     "data": {
      "text/latex": [
       "$\\displaystyle \\left(\\frac{\\log{\\left(x \\right)}}{\\log{\\left(5 \\right)}}\\right)^{\\frac{x}{2}} \\left(\\frac{\\log{\\left(\\frac{\\log{\\left(x \\right)}}{\\log{\\left(5 \\right)}} \\right)}}{2} + \\frac{1}{2 \\log{\\left(x \\right)}}\\right)$"
      ],
      "text/plain": [
       "(log(x)/log(5))**(x/2)*(log(log(x)/log(5))/2 + 1/(2*log(x)))"
      ]
     },
     "execution_count": 9,
     "metadata": {},
     "output_type": "execute_result"
    }
   ],
   "source": [
    "smp.diff(log(x,5)**(x/2),x)"
   ]
  },
  {
   "cell_type": "code",
   "execution_count": 6,
   "id": "feb6a72a-e3aa-4e88-b08b-ae0d2ce700dd",
   "metadata": {},
   "outputs": [
    {
     "data": {
      "text/latex": [
       "$\\displaystyle f^{x}{\\left(x + g^{x^{x}}{\\left(x \\right)} \\right)}$"
      ],
      "text/plain": [
       "f(x + g(x)**(x**x))**x"
      ]
     },
     "execution_count": 6,
     "metadata": {},
     "output_type": "execute_result"
    }
   ],
   "source": [
    "f,g=smp.symbols('f g', cls=smp.Function) #define symbols and CLASS\n",
    "f(x+g(x)**x**x)**x #Derivatives"
   ]
  },
  {
   "cell_type": "code",
   "execution_count": 7,
   "id": "cb0bdb1a-5f30-42ae-89ab-ee999c32a366",
   "metadata": {},
   "outputs": [
    {
     "data": {
      "text/latex": [
       "$\\displaystyle \\left(\\frac{\\left(\\left(x^{x} \\left(\\log{\\left(x \\right)} + 1\\right) \\log{\\left(g{\\left(x \\right)} \\right)} + \\frac{x^{x} \\frac{d}{d x} g{\\left(x \\right)}}{g{\\left(x \\right)}}\\right) g^{x^{x}}{\\left(x \\right)} + 1\\right) \\log{\\left(x \\right)} \\left. \\frac{d}{d \\xi_{1}} f{\\left(\\xi_{1} \\right)} \\right|_{\\substack{ \\xi_{1}=x + g^{x^{x}}{\\left(x \\right)} }}}{f{\\left(x + g^{x^{x}}{\\left(x \\right)} \\right)}} + \\frac{\\log{\\left(f{\\left(x + g^{x^{x}}{\\left(x \\right)} \\right)} \\right)}}{x}\\right) f^{\\log{\\left(x \\right)}}{\\left(x + g^{x^{x}}{\\left(x \\right)} \\right)}$"
      ],
      "text/plain": [
       "(((x**x*(log(x) + 1)*log(g(x)) + x**x*Derivative(g(x), x)/g(x))*g(x)**(x**x) + 1)*log(x)*Subs(Derivative(f(_xi_1), _xi_1), _xi_1, x + g(x)**(x**x))/f(x + g(x)**(x**x)) + log(f(x + g(x)**(x**x)))/x)*f(x + g(x)**(x**x))**log(x)"
      ]
     },
     "execution_count": 7,
     "metadata": {},
     "output_type": "execute_result"
    }
   ],
   "source": [
    "smp.diff(f(x+g(x)**x**x)**log(x) ,x)"
   ]
  },
  {
   "cell_type": "code",
   "execution_count": null,
   "id": "131350cd-04ea-4fe3-86ef-8c691968587f",
   "metadata": {},
   "outputs": [],
   "source": []
  }
 ],
 "metadata": {
  "kernelspec": {
   "display_name": "Python 3 (ipykernel)",
   "language": "python",
   "name": "python3"
  },
  "language_info": {
   "codemirror_mode": {
    "name": "ipython",
    "version": 3
   },
   "file_extension": ".py",
   "mimetype": "text/x-python",
   "name": "python",
   "nbconvert_exporter": "python",
   "pygments_lexer": "ipython3",
   "version": "3.13.3"
  }
 },
 "nbformat": 4,
 "nbformat_minor": 5
}
