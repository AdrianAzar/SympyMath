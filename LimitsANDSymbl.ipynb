{
 "cells": [
  {
   "cell_type": "code",
   "execution_count": 47,
   "id": "fed6176e-d466-403a-8db2-e92d6f6d5351",
   "metadata": {},
   "outputs": [],
   "source": [
    "import sympy as smp\n",
    "from sympy import *\n",
    "import numpy as np\n"
   ]
  },
  {
   "cell_type": "code",
   "execution_count": 48,
   "id": "70f69a39-9c0b-45d9-90d5-37de834ab0ac",
   "metadata": {},
   "outputs": [],
   "source": [
    "x,y,z=smp.symbols('x y z')\n",
    "f=smp.exp(x)**smp.Rational(1,2)+smp.asinh(y)+smp.log(z,10)+1/2\n"
   ]
  },
  {
   "cell_type": "code",
   "execution_count": 49,
   "id": "62dc4ba7-f679-41d3-91f4-d7474fee145b",
   "metadata": {},
   "outputs": [
    {
     "data": {
      "text/latex": [
       "$\\displaystyle \\sqrt{e^{x}} + \\frac{\\log{\\left(z \\right)}}{\\log{\\left(10 \\right)}} + 0.5 + \\operatorname{asinh}{\\left(4 \\right)}$"
      ],
      "text/plain": [
       "sqrt(exp(x)) + log(z)/log(10) + 0.5 + asinh(4)"
      ]
     },
     "execution_count": 49,
     "metadata": {},
     "output_type": "execute_result"
    }
   ],
   "source": [
    "f.subs(y,4)"
   ]
  },
  {
   "cell_type": "code",
   "execution_count": 50,
   "id": "4acb844e-08ce-4277-a586-2e6484c975d0",
   "metadata": {},
   "outputs": [
    {
     "data": {
      "text/latex": [
       "$\\displaystyle \\sin{\\left(\\frac{x}{2} + \\cos{\\left(\\sin{\\left(x \\right)} \\right)} \\right)}$"
      ],
      "text/plain": [
       "sin(x/2 + cos(sin(x)))"
      ]
     },
     "execution_count": 50,
     "metadata": {},
     "output_type": "execute_result"
    }
   ],
   "source": [
    "#Single Variable Limits\n",
    "smp.sin(x/2+smp.cos(smp.sin(x)))"
   ]
  },
  {
   "cell_type": "code",
   "execution_count": 51,
   "id": "d28158e4-9ec1-4dca-93d5-f0abf836abb4",
   "metadata": {},
   "outputs": [
    {
     "data": {
      "text/latex": [
       "$\\displaystyle 0.761511939520553$"
      ],
      "text/plain": [
       "0.761511939520553"
      ]
     },
     "execution_count": 51,
     "metadata": {},
     "output_type": "execute_result"
    }
   ],
   "source": [
    "smp.limit(smp.sin(x/2+smp.cos(smp.sin(x))),x,smp.exp)"
   ]
  },
  {
   "cell_type": "code",
   "execution_count": 56,
   "id": "887b1ec6-2aa1-48d3-b8e6-71fa1a98a284",
   "metadata": {},
   "outputs": [
    {
     "data": {
      "text/latex": [
       "$\\displaystyle \\frac{2^{e^{\\frac{1}{x}}}}{e^{\\frac{1}{\\sin{\\left(x \\right)}}} + 1}$"
      ],
      "text/plain": [
       "2**exp(1/x)/(exp(1/sin(x)) + 1)"
      ]
     },
     "execution_count": 56,
     "metadata": {},
     "output_type": "execute_result"
    }
   ],
   "source": [
    "(2**(smp.exp(1/x))/(smp.exp(1/sin(x))+1))"
   ]
  },
  {
   "cell_type": "code",
   "execution_count": 64,
   "id": "51f96eb3-f232-409a-8af7-936a11538a0c",
   "metadata": {},
   "outputs": [
    {
     "data": {
      "text/latex": [
       "$\\displaystyle \\infty$"
      ],
      "text/plain": [
       "oo"
      ]
     },
     "execution_count": 64,
     "metadata": {},
     "output_type": "execute_result"
    }
   ],
   "source": [
    "#0+\n",
    "smp.limit((2**(smp.exp(1/x))/(smp.exp(1/sin(x))+1)),x,0,dir='+')"
   ]
  },
  {
   "cell_type": "code",
   "execution_count": 58,
   "id": "d4850a7d-b663-4f11-ab50-39fb7ac1816a",
   "metadata": {},
   "outputs": [
    {
     "data": {
      "text/latex": [
       "$\\displaystyle 1$"
      ],
      "text/plain": [
       "1"
      ]
     },
     "execution_count": 58,
     "metadata": {},
     "output_type": "execute_result"
    }
   ],
   "source": [
    "#0-\n",
    "smp.limit((2**(smp.exp(1/x))/(smp.exp(1/sin(x))+1)),x,0,dir='-')"
   ]
  },
  {
   "cell_type": "code",
   "execution_count": 69,
   "id": "e973ab96-71bb-43f9-b416-23c789dbfb5d",
   "metadata": {},
   "outputs": [
    {
     "data": {
      "text/latex": [
       "$\\displaystyle 0$"
      ],
      "text/plain": [
       "0"
      ]
     },
     "execution_count": 69,
     "metadata": {},
     "output_type": "execute_result"
    }
   ],
   "source": [
    "#inifnities\n",
    "smp.limit((smp.cos(x)-1)/x,x,smp.oo)"
   ]
  },
  {
   "cell_type": "code",
   "execution_count": null,
   "id": "5d72f68c-bef8-488e-a7e5-1e3849008d14",
   "metadata": {},
   "outputs": [],
   "source": []
  }
 ],
 "metadata": {
  "kernelspec": {
   "display_name": "Python 3 (ipykernel)",
   "language": "python",
   "name": "python3"
  },
  "language_info": {
   "codemirror_mode": {
    "name": "ipython",
    "version": 3
   },
   "file_extension": ".py",
   "mimetype": "text/x-python",
   "name": "python",
   "nbconvert_exporter": "python",
   "pygments_lexer": "ipython3",
   "version": "3.13.3"
  }
 },
 "nbformat": 4,
 "nbformat_minor": 5
}
