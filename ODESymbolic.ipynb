{
 "cells": [
  {
   "cell_type": "code",
   "execution_count": 49,
   "id": "a5f32a67-c419-4bf6-884a-924dca0e8702",
   "metadata": {},
   "outputs": [],
   "source": [
    "import sympy as smp"
   ]
  },
  {
   "cell_type": "code",
   "execution_count": 50,
   "id": "9e1377d6-0133-41a5-85a8-92b2a2ee1f99",
   "metadata": {},
   "outputs": [],
   "source": [
    "x,y,g,m,k=smp.symbols('x y g m k')\n",
    "f=smp.Function('f')"
   ]
  },
  {
   "cell_type": "code",
   "execution_count": 51,
   "id": "8a42a5a2-ce2d-4f05-b98f-4b3c442de6a6",
   "metadata": {},
   "outputs": [
    {
     "data": {
      "text/latex": [
       "$\\displaystyle f{\\left(x \\right)}$"
      ],
      "text/plain": [
       "f(x)"
      ]
     },
     "execution_count": 51,
     "metadata": {},
     "output_type": "execute_result"
    }
   ],
   "source": [
    "f(x)"
   ]
  },
  {
   "cell_type": "code",
   "execution_count": 52,
   "id": "3f3f2d4a-368f-46ac-8f53-ab9db0cc99ec",
   "metadata": {},
   "outputs": [
    {
     "data": {
      "text/latex": [
       "$\\displaystyle g m + k f{\\left(x \\right)} + m \\frac{d}{d x} f{\\left(x \\right)} = 0$"
      ],
      "text/plain": [
       "Eq(g*m + k*f(x) + m*Derivative(f(x), x), 0)"
      ]
     },
     "execution_count": 52,
     "metadata": {},
     "output_type": "execute_result"
    }
   ],
   "source": [
    "DE=smp.Eq(m*smp.diff(f(x))+m*g+k*(f(x)),0)\n",
    "DE"
   ]
  },
  {
   "cell_type": "code",
   "execution_count": 53,
   "id": "50e8e0c2-be09-4dd9-ab68-ef9d21345a82",
   "metadata": {},
   "outputs": [
    {
     "data": {
      "text/latex": [
       "$\\displaystyle f{\\left(x \\right)} = C_{1} e^{- \\frac{k x}{m}} - \\frac{g m}{k}$"
      ],
      "text/plain": [
       "Eq(f(x), C1*exp(-k*x/m) - g*m/k)"
      ]
     },
     "execution_count": 53,
     "metadata": {},
     "output_type": "execute_result"
    }
   ],
   "source": [
    "smp.dsolve(DE,f(x))"
   ]
  },
  {
   "cell_type": "code",
   "execution_count": null,
   "id": "11422c93-b58f-4394-b79c-32de65c55afd",
   "metadata": {},
   "outputs": [],
   "source": []
  },
  {
   "cell_type": "code",
   "execution_count": null,
   "id": "fa7046a7-e802-46ff-a5eb-a87d4e3882fb",
   "metadata": {},
   "outputs": [],
   "source": []
  },
  {
   "cell_type": "code",
   "execution_count": null,
   "id": "74f3c00c-f656-4a81-9246-333dcc2c7124",
   "metadata": {},
   "outputs": [],
   "source": []
  }
 ],
 "metadata": {
  "kernelspec": {
   "display_name": "Python 3 (ipykernel)",
   "language": "python",
   "name": "python3"
  },
  "language_info": {
   "codemirror_mode": {
    "name": "ipython",
    "version": 3
   },
   "file_extension": ".py",
   "mimetype": "text/x-python",
   "name": "python",
   "nbconvert_exporter": "python",
   "pygments_lexer": "ipython3",
   "version": "3.13.3"
  }
 },
 "nbformat": 4,
 "nbformat_minor": 5
}
