{
 "cells": [
  {
   "cell_type": "code",
   "execution_count": 1,
   "id": "37ff0081-611d-450f-9bc4-46eff4425784",
   "metadata": {},
   "outputs": [],
   "source": [
    "import sympy as smp"
   ]
  },
  {
   "cell_type": "code",
   "execution_count": 3,
   "id": "ecdb43f9-9abe-4648-a6ca-287402d79915",
   "metadata": {},
   "outputs": [],
   "source": [
    "x, y=smp.symbols('x y')\n",
    "u=smp.Function('u')(x,y)\n",
    "pde= smp.Eq(x*smp.diff(u,x)-3*y*smp.diff(u,y),2*x**2*u) #comma is the ...="
   ]
  },
  {
   "cell_type": "code",
   "execution_count": 7,
   "id": "9ce44ba6-d5cd-4320-aa8d-2f40d084a923",
   "metadata": {},
   "outputs": [],
   "source": [
    "solution = smp.pdsolve(pde)"
   ]
  },
  {
   "cell_type": "code",
   "execution_count": 8,
   "id": "e06bf432-58a1-4515-98b0-1f92f99f66a8",
   "metadata": {},
   "outputs": [
    {
     "data": {
      "text/latex": [
       "$\\displaystyle u{\\left(x,y \\right)} = F{\\left(x^{3} y \\right)} e^{x^{2}}$"
      ],
      "text/plain": [
       "Eq(u(x, y), F(x**3*y)*exp(x**2))"
      ]
     },
     "execution_count": 8,
     "metadata": {},
     "output_type": "execute_result"
    }
   ],
   "source": [
    "solution"
   ]
  },
  {
   "cell_type": "code",
   "execution_count": null,
   "id": "7fd61049-9b53-484d-b64f-e0218734d30e",
   "metadata": {},
   "outputs": [],
   "source": []
  }
 ],
 "metadata": {
  "kernelspec": {
   "display_name": "Python 3 (ipykernel)",
   "language": "python",
   "name": "python3"
  },
  "language_info": {
   "codemirror_mode": {
    "name": "ipython",
    "version": 3
   },
   "file_extension": ".py",
   "mimetype": "text/x-python",
   "name": "python",
   "nbconvert_exporter": "python",
   "pygments_lexer": "ipython3",
   "version": "3.13.3"
  }
 },
 "nbformat": 4,
 "nbformat_minor": 5
}
